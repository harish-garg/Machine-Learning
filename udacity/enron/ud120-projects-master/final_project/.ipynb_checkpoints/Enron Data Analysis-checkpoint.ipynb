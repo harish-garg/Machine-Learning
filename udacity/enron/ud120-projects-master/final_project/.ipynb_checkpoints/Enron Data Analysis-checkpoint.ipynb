{
 "cells": [
  {
   "cell_type": "markdown",
   "metadata": {},
   "source": [
    "# EDA\n",
    "## Import the dataset, explore and summarize it"
   ]
  },
  {
   "cell_type": "code",
   "execution_count": 11,
   "metadata": {
    "collapsed": true
   },
   "outputs": [],
   "source": [
    "# load the necessary python modules\n",
    "import matplotlib.pyplot as plt\n",
    "import matplotlib\n",
    "import pickle\n",
    "import pandas as pd \n",
    "import numpy as np\n",
    "from IPython.display import display\n",
    "%matplotlib notebook"
   ]
  },
  {
   "cell_type": "code",
   "execution_count": 12,
   "metadata": {
    "collapsed": true
   },
   "outputs": [],
   "source": [
    "### Load the dictionary containing the dataset. This code taken from poi_id.py script provided by udacity. \n",
    "with open(\"final_project_dataset.pkl\", \"r\") as data_file:\n",
    "    data_dict = pickle.load(data_file)"
   ]
  },
  {
   "cell_type": "code",
   "execution_count": 13,
   "metadata": {
    "collapsed": false
   },
   "outputs": [
    {
     "name": "stdout",
     "output_type": "stream",
     "text": [
      "Total Number of persons: 146\n",
      "Total Number of features: 21\n",
      "Total Number of POIs: 18\n"
     ]
    }
   ],
   "source": [
    "# get some initial stats for the project report.\n",
    "print(\"Total Number of persons: %d\"%len(data_dict.keys()))\n",
    "print(\"Total Number of features: %d\"%len(list(data_dict.values())[0]))\n",
    "print(\"Total Number of POIs: %d\"%sum([1 if x['poi'] else 0 for x in data_dict.values()])) "
   ]
  },
  {
   "cell_type": "code",
   "execution_count": 14,
   "metadata": {
    "collapsed": false
   },
   "outputs": [
    {
     "name": "stdout",
     "output_type": "stream",
     "text": [
      "['METTS MARK', 'BAXTER JOHN C', 'ELLIOTT STEVEN', 'CORDES WILLIAM R', 'HANNON KEVIN P', 'MORDAUNT KRISTINA M', 'MEYER ROCKFORD G', 'MCMAHON JEFFREY', 'HORTON STANLEY C', 'PIPER GREGORY F', 'HUMPHREY GENE E', 'UMANOFF ADAM S', 'BLACHMAN JEREMY M', 'SUNDE MARTIN', 'GIBBS DANA R', 'LOWRY CHARLES P', 'COLWELL WESLEY', 'MULLER MARK S', 'JACKSON CHARLENE R', 'WESTFAHL RICHARD K', 'WALTERS GARETH W', 'WALLS JR ROBERT H', 'KITCHEN LOUISE', 'CHAN RONNIE', 'BELFER ROBERT', 'SHANKMAN JEFFREY A', 'WODRASKA JOHN', 'BERGSIEKER RICHARD P', 'URQUHART JOHN A', 'BIBI PHILIPPE A', 'RIEKER PAULA H', 'WHALEY DAVID A', 'BECK SALLY W', 'HAUG DAVID L', 'ECHOLS JOHN B', 'MENDELSOHN JOHN', 'HICKERSON GARY J', 'CLINE KENNETH W', 'LEWIS RICHARD', 'HAYES ROBERT E', 'MCCARTY DANNY J', 'KOPPER MICHAEL J', 'LEFF DANIEL P', 'LAVORATO JOHN J', 'BERBERIAN DAVID', 'DETMERING TIMOTHY J', 'WAKEHAM JOHN', 'POWERS WILLIAM', 'GOLD JOSEPH', 'BANNANTINE JAMES M', 'DUNCAN JOHN H', 'SHAPIRO RICHARD S', 'SHERRIFF JOHN R', 'SHELBY REX', 'LEMAISTRE CHARLES', 'DEFFNER JOSEPH M', 'KISHKILL JOSEPH G', 'WHALLEY LAWRENCE G', 'MCCONNELL MICHAEL S', 'PIRO JIM', 'DELAINEY DAVID W', 'SULLIVAN-SHAKLOVITZ COLLEEN', 'WROBEL BRUCE', 'LINDHOLM TOD A', 'MEYER JEROME J', 'LAY KENNETH L', 'BUTTS ROBERT H', 'OLSON CINDY K', 'MCDONALD REBECCA', 'CUMBERLAND MICHAEL S', 'GAHN ROBERT S', 'MCCLELLAN GEORGE', 'HERMANN ROBERT J', 'SCRIMSHAW MATTHEW', 'GATHMANN WILLIAM D', 'HAEDICKE MARK E', 'BOWEN JR RAYMOND M', 'GILLIS JOHN', 'FITZGERALD JAY L', 'MORAN MICHAEL P', 'REDMOND BRIAN L', 'BAZELIDES PHILIP J', 'BELDEN TIMOTHY N', 'DURAN WILLIAM D', 'THORN TERENCE H', 'FASTOW ANDREW S', 'FOY JOE', 'CALGER CHRISTOPHER F', 'RICE KENNETH D', 'KAMINSKI WINCENTY J', 'LOCKHART EUGENE E', 'COX DAVID', 'OVERDYKE JR JERE C', 'PEREIRA PAULO V. FERRAZ', 'STABLER FRANK', 'SKILLING JEFFREY K', 'BLAKE JR. NORMAN P', 'SHERRICK JEFFREY B', 'PRENTICE JAMES', 'GRAY RODNEY', 'PICKERING MARK R', 'THE TRAVEL AGENCY IN THE PARK', 'NOLES JAMES L', 'KEAN STEVEN J', 'TOTAL', 'FOWLER PEGGY', 'WASAFF GEORGE', 'WHITE JR THOMAS E', 'CHRISTODOULOU DIOMEDES', 'ALLEN PHILLIP K', 'SHARP VICTORIA T', 'JAEDICKE ROBERT', 'WINOKUR JR. HERBERT S', 'BROWN MICHAEL', 'BADUM JAMES P', 'HUGHES JAMES A', 'REYNOLDS LAWRENCE', 'DIMICHELE RICHARD G', 'BHATNAGAR SANJAY', 'CARTER REBECCA C', 'BUCHANAN HAROLD G', 'YEAP SOON', 'MURRAY JULIA H', 'GARLAND C KEVIN', 'DODSON KEITH', 'YEAGER F SCOTT', 'HIRKO JOSEPH', 'DIETRICH JANET R', 'DERRICK JR. JAMES V', 'FREVERT MARK A', 'PAI LOU L', 'BAY FRANKLIN R', 'HAYSLETT RODERICK J', 'FUGH JOHN L', 'FALLON JAMES B', 'KOENIG MARK E', 'SAVAGE FRANK', 'IZZO LAWRENCE L', 'TILNEY ELIZABETH A', 'MARTIN AMANDA K', 'BUY RICHARD B', 'GRAMM WENDY L', 'CAUSEY RICHARD A', 'TAYLOR MITCHELL S', 'DONAHUE JR JEFFREY M', 'GLISAN JR BEN F']\n"
     ]
    }
   ],
   "source": [
    "print data_dict.keys()"
   ]
  },
  {
   "cell_type": "code",
   "execution_count": 15,
   "metadata": {
    "collapsed": false
   },
   "outputs": [
    {
     "data": {
      "text/html": [
       "<div>\n",
       "<table border=\"1\" class=\"dataframe\">\n",
       "  <thead>\n",
       "    <tr style=\"text-align: right;\">\n",
       "      <th></th>\n",
       "      <th>bonus</th>\n",
       "      <th>deferral_payments</th>\n",
       "      <th>deferred_income</th>\n",
       "      <th>director_fees</th>\n",
       "      <th>exercised_stock_options</th>\n",
       "      <th>expenses</th>\n",
       "      <th>from_messages</th>\n",
       "      <th>from_poi_to_this_person</th>\n",
       "      <th>from_this_person_to_poi</th>\n",
       "      <th>loan_advances</th>\n",
       "      <th>long_term_incentive</th>\n",
       "      <th>other</th>\n",
       "      <th>restricted_stock</th>\n",
       "      <th>restricted_stock_deferred</th>\n",
       "      <th>salary</th>\n",
       "      <th>shared_receipt_with_poi</th>\n",
       "      <th>to_messages</th>\n",
       "      <th>total_payments</th>\n",
       "      <th>total_stock_value</th>\n",
       "    </tr>\n",
       "  </thead>\n",
       "  <tbody>\n",
       "    <tr>\n",
       "      <th>count</th>\n",
       "      <td>8.100000e+01</td>\n",
       "      <td>3.800000e+01</td>\n",
       "      <td>4.800000e+01</td>\n",
       "      <td>16.000000</td>\n",
       "      <td>1.010000e+02</td>\n",
       "      <td>94.000000</td>\n",
       "      <td>86.000000</td>\n",
       "      <td>86.000000</td>\n",
       "      <td>86.000000</td>\n",
       "      <td>3.000000e+00</td>\n",
       "      <td>6.500000e+01</td>\n",
       "      <td>9.100000e+01</td>\n",
       "      <td>1.090000e+02</td>\n",
       "      <td>1.700000e+01</td>\n",
       "      <td>9.400000e+01</td>\n",
       "      <td>86.000000</td>\n",
       "      <td>86.000000</td>\n",
       "      <td>1.230000e+02</td>\n",
       "      <td>1.250000e+02</td>\n",
       "    </tr>\n",
       "    <tr>\n",
       "      <th>mean</th>\n",
       "      <td>1.201773e+06</td>\n",
       "      <td>8.416025e+05</td>\n",
       "      <td>-5.810498e+05</td>\n",
       "      <td>89822.875000</td>\n",
       "      <td>2.959559e+06</td>\n",
       "      <td>54192.010638</td>\n",
       "      <td>608.790698</td>\n",
       "      <td>64.895349</td>\n",
       "      <td>41.232558</td>\n",
       "      <td>2.797500e+07</td>\n",
       "      <td>7.464912e+05</td>\n",
       "      <td>4.664105e+05</td>\n",
       "      <td>1.147424e+06</td>\n",
       "      <td>6.218928e+05</td>\n",
       "      <td>2.840875e+05</td>\n",
       "      <td>1176.465116</td>\n",
       "      <td>2073.860465</td>\n",
       "      <td>2.641806e+06</td>\n",
       "      <td>3.352073e+06</td>\n",
       "    </tr>\n",
       "    <tr>\n",
       "      <th>std</th>\n",
       "      <td>1.441679e+06</td>\n",
       "      <td>1.289323e+06</td>\n",
       "      <td>9.420764e+05</td>\n",
       "      <td>41112.700735</td>\n",
       "      <td>5.499450e+06</td>\n",
       "      <td>46108.377454</td>\n",
       "      <td>1841.033949</td>\n",
       "      <td>86.979244</td>\n",
       "      <td>100.073111</td>\n",
       "      <td>4.638256e+07</td>\n",
       "      <td>8.629174e+05</td>\n",
       "      <td>1.397376e+06</td>\n",
       "      <td>2.249770e+06</td>\n",
       "      <td>3.845528e+06</td>\n",
       "      <td>1.771311e+05</td>\n",
       "      <td>1178.317641</td>\n",
       "      <td>2582.700981</td>\n",
       "      <td>9.524694e+06</td>\n",
       "      <td>6.532883e+06</td>\n",
       "    </tr>\n",
       "    <tr>\n",
       "      <th>min</th>\n",
       "      <td>7.000000e+04</td>\n",
       "      <td>-1.025000e+05</td>\n",
       "      <td>-3.504386e+06</td>\n",
       "      <td>3285.000000</td>\n",
       "      <td>3.285000e+03</td>\n",
       "      <td>148.000000</td>\n",
       "      <td>12.000000</td>\n",
       "      <td>0.000000</td>\n",
       "      <td>0.000000</td>\n",
       "      <td>4.000000e+05</td>\n",
       "      <td>6.922300e+04</td>\n",
       "      <td>2.000000e+00</td>\n",
       "      <td>-2.604490e+06</td>\n",
       "      <td>-1.787380e+06</td>\n",
       "      <td>4.770000e+02</td>\n",
       "      <td>2.000000</td>\n",
       "      <td>57.000000</td>\n",
       "      <td>1.480000e+02</td>\n",
       "      <td>-4.409300e+04</td>\n",
       "    </tr>\n",
       "    <tr>\n",
       "      <th>25%</th>\n",
       "      <td>4.250000e+05</td>\n",
       "      <td>7.964450e+04</td>\n",
       "      <td>-6.112092e+05</td>\n",
       "      <td>83674.500000</td>\n",
       "      <td>5.067650e+05</td>\n",
       "      <td>22479.000000</td>\n",
       "      <td>22.750000</td>\n",
       "      <td>10.000000</td>\n",
       "      <td>1.000000</td>\n",
       "      <td>1.200000e+06</td>\n",
       "      <td>2.750000e+05</td>\n",
       "      <td>1.203000e+03</td>\n",
       "      <td>2.520550e+05</td>\n",
       "      <td>-3.298250e+05</td>\n",
       "      <td>2.118020e+05</td>\n",
       "      <td>249.750000</td>\n",
       "      <td>541.250000</td>\n",
       "      <td>3.969340e+05</td>\n",
       "      <td>4.941360e+05</td>\n",
       "    </tr>\n",
       "    <tr>\n",
       "      <th>50%</th>\n",
       "      <td>7.500000e+05</td>\n",
       "      <td>2.210635e+05</td>\n",
       "      <td>-1.519270e+05</td>\n",
       "      <td>106164.500000</td>\n",
       "      <td>1.297049e+06</td>\n",
       "      <td>46547.500000</td>\n",
       "      <td>41.000000</td>\n",
       "      <td>35.000000</td>\n",
       "      <td>8.000000</td>\n",
       "      <td>2.000000e+06</td>\n",
       "      <td>4.221580e+05</td>\n",
       "      <td>5.158700e+04</td>\n",
       "      <td>4.410960e+05</td>\n",
       "      <td>-1.402640e+05</td>\n",
       "      <td>2.587410e+05</td>\n",
       "      <td>740.500000</td>\n",
       "      <td>1211.000000</td>\n",
       "      <td>1.101393e+06</td>\n",
       "      <td>1.095040e+06</td>\n",
       "    </tr>\n",
       "    <tr>\n",
       "      <th>75%</th>\n",
       "      <td>1.200000e+06</td>\n",
       "      <td>8.672112e+05</td>\n",
       "      <td>-3.792600e+04</td>\n",
       "      <td>112815.000000</td>\n",
       "      <td>2.542813e+06</td>\n",
       "      <td>78408.500000</td>\n",
       "      <td>145.500000</td>\n",
       "      <td>72.250000</td>\n",
       "      <td>24.750000</td>\n",
       "      <td>4.176250e+07</td>\n",
       "      <td>8.318090e+05</td>\n",
       "      <td>3.319830e+05</td>\n",
       "      <td>9.850320e+05</td>\n",
       "      <td>-7.241900e+04</td>\n",
       "      <td>3.086065e+05</td>\n",
       "      <td>1888.250000</td>\n",
       "      <td>2634.750000</td>\n",
       "      <td>2.087530e+06</td>\n",
       "      <td>2.606763e+06</td>\n",
       "    </tr>\n",
       "    <tr>\n",
       "      <th>max</th>\n",
       "      <td>8.000000e+06</td>\n",
       "      <td>6.426990e+06</td>\n",
       "      <td>-8.330000e+02</td>\n",
       "      <td>137864.000000</td>\n",
       "      <td>3.434838e+07</td>\n",
       "      <td>228763.000000</td>\n",
       "      <td>14368.000000</td>\n",
       "      <td>528.000000</td>\n",
       "      <td>609.000000</td>\n",
       "      <td>8.152500e+07</td>\n",
       "      <td>5.145434e+06</td>\n",
       "      <td>1.035973e+07</td>\n",
       "      <td>1.476169e+07</td>\n",
       "      <td>1.545629e+07</td>\n",
       "      <td>1.111258e+06</td>\n",
       "      <td>5521.000000</td>\n",
       "      <td>15149.000000</td>\n",
       "      <td>1.035598e+08</td>\n",
       "      <td>4.911008e+07</td>\n",
       "    </tr>\n",
       "  </tbody>\n",
       "</table>\n",
       "</div>"
      ],
      "text/plain": [
       "              bonus  deferral_payments  deferred_income  director_fees  \\\n",
       "count  8.100000e+01       3.800000e+01     4.800000e+01      16.000000   \n",
       "mean   1.201773e+06       8.416025e+05    -5.810498e+05   89822.875000   \n",
       "std    1.441679e+06       1.289323e+06     9.420764e+05   41112.700735   \n",
       "min    7.000000e+04      -1.025000e+05    -3.504386e+06    3285.000000   \n",
       "25%    4.250000e+05       7.964450e+04    -6.112092e+05   83674.500000   \n",
       "50%    7.500000e+05       2.210635e+05    -1.519270e+05  106164.500000   \n",
       "75%    1.200000e+06       8.672112e+05    -3.792600e+04  112815.000000   \n",
       "max    8.000000e+06       6.426990e+06    -8.330000e+02  137864.000000   \n",
       "\n",
       "       exercised_stock_options       expenses  from_messages  \\\n",
       "count             1.010000e+02      94.000000      86.000000   \n",
       "mean              2.959559e+06   54192.010638     608.790698   \n",
       "std               5.499450e+06   46108.377454    1841.033949   \n",
       "min               3.285000e+03     148.000000      12.000000   \n",
       "25%               5.067650e+05   22479.000000      22.750000   \n",
       "50%               1.297049e+06   46547.500000      41.000000   \n",
       "75%               2.542813e+06   78408.500000     145.500000   \n",
       "max               3.434838e+07  228763.000000   14368.000000   \n",
       "\n",
       "       from_poi_to_this_person  from_this_person_to_poi  loan_advances  \\\n",
       "count                86.000000                86.000000   3.000000e+00   \n",
       "mean                 64.895349                41.232558   2.797500e+07   \n",
       "std                  86.979244               100.073111   4.638256e+07   \n",
       "min                   0.000000                 0.000000   4.000000e+05   \n",
       "25%                  10.000000                 1.000000   1.200000e+06   \n",
       "50%                  35.000000                 8.000000   2.000000e+06   \n",
       "75%                  72.250000                24.750000   4.176250e+07   \n",
       "max                 528.000000               609.000000   8.152500e+07   \n",
       "\n",
       "       long_term_incentive         other  restricted_stock  \\\n",
       "count         6.500000e+01  9.100000e+01      1.090000e+02   \n",
       "mean          7.464912e+05  4.664105e+05      1.147424e+06   \n",
       "std           8.629174e+05  1.397376e+06      2.249770e+06   \n",
       "min           6.922300e+04  2.000000e+00     -2.604490e+06   \n",
       "25%           2.750000e+05  1.203000e+03      2.520550e+05   \n",
       "50%           4.221580e+05  5.158700e+04      4.410960e+05   \n",
       "75%           8.318090e+05  3.319830e+05      9.850320e+05   \n",
       "max           5.145434e+06  1.035973e+07      1.476169e+07   \n",
       "\n",
       "       restricted_stock_deferred        salary  shared_receipt_with_poi  \\\n",
       "count               1.700000e+01  9.400000e+01                86.000000   \n",
       "mean                6.218928e+05  2.840875e+05              1176.465116   \n",
       "std                 3.845528e+06  1.771311e+05              1178.317641   \n",
       "min                -1.787380e+06  4.770000e+02                 2.000000   \n",
       "25%                -3.298250e+05  2.118020e+05               249.750000   \n",
       "50%                -1.402640e+05  2.587410e+05               740.500000   \n",
       "75%                -7.241900e+04  3.086065e+05              1888.250000   \n",
       "max                 1.545629e+07  1.111258e+06              5521.000000   \n",
       "\n",
       "        to_messages  total_payments  total_stock_value  \n",
       "count     86.000000    1.230000e+02       1.250000e+02  \n",
       "mean    2073.860465    2.641806e+06       3.352073e+06  \n",
       "std     2582.700981    9.524694e+06       6.532883e+06  \n",
       "min       57.000000    1.480000e+02      -4.409300e+04  \n",
       "25%      541.250000    3.969340e+05       4.941360e+05  \n",
       "50%     1211.000000    1.101393e+06       1.095040e+06  \n",
       "75%     2634.750000    2.087530e+06       2.606763e+06  \n",
       "max    15149.000000    1.035598e+08       4.911008e+07  "
      ]
     },
     "execution_count": 15,
     "metadata": {},
     "output_type": "execute_result"
    }
   ],
   "source": [
    "# converting the dictionary dataset to a pandas dataframe\n",
    "enron_df = pd.DataFrame.from_dict(data_dict)\n",
    "# Removing entries belonging to Total and THE TRAVEL AGENCY IN THE PARK as they are non persons\n",
    "del enron_df['TOTAL']\n",
    "del enron_df['THE TRAVEL AGENCY IN THE PARK']\n",
    "enron_df = enron_df.transpose()\n",
    "\n",
    "enron_df_num = enron_df.apply(pd.to_numeric, errors='coerce')\n",
    "# Removing the email_address from the dataset as it's non-numeric feature and won't seem to have much use right now.\n",
    "del enron_df_num['email_address']\n",
    "\n",
    "enron_df_num.describe()"
   ]
  },
  {
   "cell_type": "code",
   "execution_count": 16,
   "metadata": {
    "collapsed": false
   },
   "outputs": [
    {
     "data": {
      "text/plain": [
       "144"
      ]
     },
     "execution_count": 16,
     "metadata": {},
     "output_type": "execute_result"
    }
   ],
   "source": [
    "len(enron_df_num)"
   ]
  },
  {
   "cell_type": "markdown",
   "metadata": {},
   "source": [
    "We are left with 144 records now in our dataframe."
   ]
  },
  {
   "cell_type": "markdown",
   "metadata": {},
   "source": [
    "Also, the summary of the data sets shows some shows a very large standard deviation for some of the features\n",
    "and some missing data for others. We will drop some of these features as below."
   ]
  },
  {
   "cell_type": "code",
   "execution_count": 17,
   "metadata": {
    "collapsed": true
   },
   "outputs": [],
   "source": [
    "del enron_df_num['loan_advances']\n",
    "del enron_df_num['restricted_stock_deferred']\n",
    "del enron_df_num['director_fees']"
   ]
  },
  {
   "cell_type": "code",
   "execution_count": 18,
   "metadata": {
    "collapsed": false
   },
   "outputs": [
    {
     "name": "stdout",
     "output_type": "stream",
     "text": [
      "\n",
      "Correlations between features to POI:\n",
      " bonus                      0.302384\n",
      "deferral_payments         -0.098428\n",
      "deferred_income           -0.265698\n",
      "exercised_stock_options    0.503551\n",
      "expenses                   0.060292\n",
      "from_messages             -0.074308\n",
      "from_poi_to_this_person    0.167722\n",
      "from_this_person_to_poi    0.112940\n",
      "long_term_incentive        0.254723\n",
      "other                      0.120270\n",
      "poi                        1.000000\n",
      "restricted_stock           0.224814\n",
      "salary                     0.264976\n",
      "shared_receipt_with_poi    0.228313\n",
      "to_messages                0.058954\n",
      "total_payments             0.230102\n",
      "total_stock_value          0.366462\n",
      "Name: poi, dtype: float64\n"
     ]
    }
   ],
   "source": [
    "# Feature selections\n",
    "data_corr_list = enron_df_num.corr()\n",
    "print('\\nCorrelations between features to POI:\\n ' +str(data_corr_list['poi']))"
   ]
  },
  {
   "cell_type": "markdown",
   "metadata": {
    "collapsed": true
   },
   "source": [
    "Features ‘exercised_stock_options’, ‘total_stock_value’, and ‘bonus’ have the highest correlation to POI, in descending order. "
   ]
  },
  {
   "cell_type": "code",
   "execution_count": 19,
   "metadata": {
    "collapsed": false
   },
   "outputs": [],
   "source": [
    "#Get rid of label\n",
    "del enron_df_num['poi']\n",
    "poi = enron_df['poi']\n",
    "\n",
    "#Create new features\n",
    "enron_df_num['stock_sum'] = enron_df_num['exercised_stock_options'] +\\\n",
    "                           enron_df_num['total_stock_value'] +\\\n",
    "                           enron_df_num['restricted_stock'] \n",
    "enron_df_num['stock_ratio'] = enron_df_num['exercised_stock_options']/enron_df_num['total_stock_value']\n",
    "enron_df_num['money_total'] = enron_df_num['salary'] +\\\n",
    "                             enron_df_num['bonus'] -\\\n",
    "                             enron_df_num['expenses']\n",
    "enron_df_num['money_ratio'] = enron_df_num['bonus']/enron_df_num['salary'] \n",
    "enron_df_num['email_ratio'] = enron_df_num['from_messages']/(enron_df_num['to_messages']+enron_df_num['from_messages'])\n",
    "enron_df_num['poi_email_ratio_from'] = enron_df_num['from_poi_to_this_person']/enron_df_num['to_messages']\n",
    "enron_df_num['poi_email_ratio_to'] = enron_df_num['from_this_person_to_poi']/enron_df_num['from_messages']\n",
    "\n",
    "#Feel in NA values with 'marker' value outside range of real values\n",
    "enron_df_num = enron_df_num.fillna(enron_df_num.mean())\n",
    "\n",
    "#Scale to 1-0\n",
    "enron_df_num = (enron_df_num-enron_df_num.min())/(enron_df_num.max()-enron_df_num.min())"
   ]
  },
  {
   "cell_type": "code",
   "execution_count": 20,
   "metadata": {
    "collapsed": false
   },
   "outputs": [
    {
     "name": "stdout",
     "output_type": "stream",
     "text": [
      "Feature exercised_stock_options has value 29.133390\n",
      "Feature total_stock_value has value 21.477343\n",
      "Feature stock_sum has value 15.039523\n",
      "Feature poi_email_ratio_to has value 13.360475\n",
      "Feature bonus has value 11.437118\n",
      "Feature money_total has value 10.334752\n",
      "Feature salary has value 9.398674\n",
      "Feature total_payments has value 7.734639\n",
      "Feature restricted_stock has value 6.853888\n",
      "Feature long_term_incentive has value 5.964237\n",
      "Feature shared_receipt_with_poi has value 5.730789\n",
      "Feature deferred_income has value 5.610048\n",
      "Feature money_ratio has value 3.895578\n",
      "Feature from_poi_to_this_person has value 3.036263\n",
      "Feature email_ratio has value 2.035016\n",
      "Feature other has value 1.908430\n",
      "Feature from_this_person_to_poi has value 1.360849\n",
      "Feature poi_email_ratio_from has value 1.161332\n",
      "Feature from_messages has value 0.585913\n",
      "Feature expenses has value 0.478571\n",
      "Feature deferral_payments has value 0.380285\n",
      "Feature to_messages has value 0.368235\n",
      "Feature stock_ratio has value 0.013267\n"
     ]
    }
   ],
   "source": [
    "from sklearn.feature_selection import SelectKBest\n",
    "selector = SelectKBest()\n",
    "selector.fit(enron_df_num,poi.tolist())\n",
    "scores = {enron_df_num.columns[i]:selector.scores_[i] for i in range(len(enron_df_num.columns))}\n",
    "sorted_features = sorted(scores,key=scores.get, reverse=True)\n",
    "for feature in sorted_features:\n",
    "    print('Feature %s has value %f'%(feature,scores[feature]))"
   ]
  },
  {
   "cell_type": "code",
   "execution_count": 21,
   "metadata": {
    "collapsed": false
   },
   "outputs": [
    {
     "name": "stdout",
     "output_type": "stream",
     "text": [
      "Best classifier found is DecisionTreeClassifier(class_weight=None, criterion='entropy', max_depth=None,\n",
      "            max_features=0.25, max_leaf_nodes=50, min_samples_leaf=1,\n",
      "            min_samples_split=4, min_weight_fraction_leaf=0.0,\n",
      "            presort=False, random_state=None, splitter='best') \n",
      "       with score (recall+precision)/2 of 0.420000\n",
      "       and feature set ['exercised_stock_options', 'total_stock_value', 'stock_sum', 'poi_email_ratio_to', 'bonus', 'money_total']\n"
     ]
    }
   ],
   "source": [
    "from sklearn.naive_bayes import GaussianNB\n",
    "from sklearn.svm import SVC\n",
    "from sklearn.grid_search import RandomizedSearchCV, GridSearchCV\n",
    "from sklearn.tree import DecisionTreeClassifier\n",
    "from sklearn.metrics import precision_score, recall_score, accuracy_score\n",
    "from sklearn.cross_validation import StratifiedShuffleSplit\n",
    "import scipy\n",
    "import warnings\n",
    "warnings.filterwarnings('ignore')\n",
    "\n",
    "gnb_clf = GridSearchCV(GaussianNB(),{})\n",
    "#No params to tune for for linear bayes, use for convenience\n",
    "        \n",
    "svc_clf = SVC()\n",
    "svc_search_params = {'C': scipy.stats.expon(scale=1), \n",
    "                     'gamma': scipy.stats.expon(scale=.1),\n",
    "                     'kernel': ['linear','poly','rbf'],\n",
    "                     'class_weight':['balanced',None]}\n",
    "svc_search = RandomizedSearchCV(svc_clf, \n",
    "                                param_distributions=svc_search_params, \n",
    "                                n_iter=25)\n",
    "\n",
    "tree_clf = DecisionTreeClassifier()\n",
    "tree_search_params = {'criterion':['gini','entropy'],\n",
    "                     'max_leaf_nodes':[None,25,50,100,1000],\n",
    "                     'min_samples_split':[2,3,4],\n",
    "                     'max_features':[0.25,0.5,0.75,1.0]}\n",
    "tree_search = GridSearchCV(tree_clf, \n",
    "                           tree_search_params,\n",
    "                           scoring='recall')\n",
    "\n",
    "search_methods = [gnb_clf,svc_search,tree_search]\n",
    "average_accuracies = [[0],[0],[0]]\n",
    "average_precision = [[0],[0],[0]]\n",
    "average_recall = [[0],[0],[0]]\n",
    "\n",
    "num_splits = 10\n",
    "train_split = 0.9\n",
    "indices = list(StratifiedShuffleSplit(poi.tolist(),\n",
    "                                      num_splits,\n",
    "                                      test_size=1-train_split, \n",
    "                                      random_state=0))\n",
    "\n",
    "best_features = None\n",
    "max_score = 0\n",
    "best_classifier = None\n",
    "num_features = 0\n",
    "for num_features in range(1,len(sorted_features)+1):\n",
    "    features = sorted_features[:num_features]\n",
    "    feature_df = enron_df_num[features]\n",
    "    for classifier_idx in range(3): \n",
    "        sum_values = [0,0,0]\n",
    "        #Only do parameter search once, too wasteful to do a ton\n",
    "        search_methods[classifier_idx].fit(feature_df.iloc[indices[0][0],:],\n",
    "                                           poi[indices[0][0]].tolist())\n",
    "        classifier = search_methods[classifier_idx].best_estimator_\n",
    "        for split_idx in range(num_splits): \n",
    "            train_indices, test_indices = indices[split_idx]\n",
    "            train_data = (feature_df.iloc[train_indices,:],poi[train_indices].tolist())\n",
    "            test_data = (feature_df.iloc[test_indices,:],poi[test_indices].tolist())\n",
    "            classifier.fit(train_data[0],train_data[1])\n",
    "            predicted = classifier.predict(test_data[0])\n",
    "            sum_values[0]+=accuracy_score(predicted,test_data[1])\n",
    "            sum_values[1]+=precision_score(predicted,test_data[1])\n",
    "            sum_values[2]+=recall_score(predicted,test_data[1])\n",
    "        avg_acc,avg_prs,avg_recall = [val/num_splits for val in sum_values]\n",
    "        average_accuracies[classifier_idx].append(avg_acc)\n",
    "        average_precision[classifier_idx].append(avg_prs)\n",
    "        average_recall[classifier_idx].append(avg_recall)\n",
    "        \n",
    "        score = (avg_prs+avg_recall)/2\n",
    "        if score>max_score and avg_prs>0.3 and avg_recall>0.3:\n",
    "            max_score = score\n",
    "            best_features = features\n",
    "            best_classifier = search_methods[classifier_idx].best_estimator_\n",
    "print('Best classifier found is %s \\n\\\n",
    "       with score (recall+precision)/2 of %f\\n\\\n",
    "       and feature set %s'%(str(best_classifier),max_score,best_features))"
   ]
  },
  {
   "cell_type": "code",
   "execution_count": null,
   "metadata": {
    "collapsed": true
   },
   "outputs": [],
   "source": []
  }
 ],
 "metadata": {
  "kernelspec": {
   "display_name": "Python 2",
   "language": "python",
   "name": "python2"
  },
  "language_info": {
   "codemirror_mode": {
    "name": "ipython",
    "version": 2
   },
   "file_extension": ".py",
   "mimetype": "text/x-python",
   "name": "python",
   "nbconvert_exporter": "python",
   "pygments_lexer": "ipython2",
   "version": "2.7.12"
  }
 },
 "nbformat": 4,
 "nbformat_minor": 0
}
